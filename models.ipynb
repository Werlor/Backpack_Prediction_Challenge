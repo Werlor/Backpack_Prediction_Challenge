{
 "cells": [
  {
   "cell_type": "code",
   "execution_count": 8,
   "id": "c104d34f-9c87-44c3-a65b-a02e2a30de4d",
   "metadata": {},
   "outputs": [],
   "source": [
    "import pandas as pd\n",
    "import matplotlib.pyplot as plt\n",
    "import seaborn as sns\n",
    "import numpy as np\n",
    "import optuna\n",
    "\n",
    "from xgboost import XGBRegressor\n",
    "from lightgbm import LGBMRegressor\n",
    "from catboost import CatBoostRegressor\n",
    "from sklearn.model_selection import train_test_split\n",
    "from sklearn.metrics import root_mean_squared_error\n",
    "from sklearn.model_selection import cross_val_score"
   ]
  },
  {
   "cell_type": "code",
   "execution_count": 9,
   "id": "cbc9f0bd-7af4-40f1-ae21-20c1705383ab",
   "metadata": {},
   "outputs": [],
   "source": [
    "train = pd.read_csv('data/train.csv')\n",
    "test = pd.read_csv('data/test.csv')\n",
    "train_extra = pd.read_csv('data/training_extra.csv')\n",
    "# sample = pd.read_csv('data/sample_submission.csv')\n",
    "\n",
    "# сохраняю id\n",
    "test_id = test['id']"
   ]
  },
  {
   "cell_type": "markdown",
   "id": "71bbcd9c-9751-431c-80c0-79f6825f6c51",
   "metadata": {},
   "source": [
    "# Таблица оценок\n",
    "\n",
    "| Model | My_score | Kaggle_score | description | data |\n",
    "|:------|:--------:|:------------:|:------------|:-----|\n",
    "|cat|39.08416|39.22710|Параметры по умолчанию |train|\n",
    "|lgbm|39.02345|39.14851|Параметры по умолчанию|train|\n",
    "|xgbr|39.19209|39.31416|Параметры по умолчанию|train|\n",
    "|cat|38.85208|39.11796|Параметры по умолчанию |train_extra|\n",
    "|lgbm|38.84959|39.10425|Параметры по умолчанию|train_extra|\n",
    "|xgbr|38.85852|39.10651|Параметры по умолчанию|train_extra|\n",
    "|cat|38.99891|39.12738|study_params_0|train|\n",
    "|cat|38.86182|39.11650|study_params_0|train_extra|\n",
    "|cat|38.89254|39.11432|Параметры по умолчанию|train + train_extra|\n",
    "|lgbm|38.88724|39.10287|Параметры по умолчанию|train + train_extra|\n",
    "|xgbr|38.89985|39.10845|Параметры по умолчанию|train + train_extra|\n",
    "|lgbm|39.00286|39.12981|l_study_params_0|train|"
   ]
  },
  {
   "cell_type": "markdown",
   "id": "f636207b-9e93-4bf4-9a49-0a6e9728d54e",
   "metadata": {},
   "source": [
    "# catboos"
   ]
  },
  {
   "cell_type": "code",
   "execution_count": 10,
   "id": "42462698-3584-4fd6-8cd6-b88837a51063",
   "metadata": {},
   "outputs": [],
   "source": [
    "# Переменная категориальных признаков\n",
    "class_features = ['Brand', 'Material', 'Size', 'Style', 'Color', 'Laptop Compartment', 'Waterproof']\n",
    "\n",
    "def cat_category(df):\n",
    "    '''\n",
    "    Функция заменяет Nan значения на 'Unknown' и приводит к типу 'category' категориальные признаки\n",
    "    '''\n",
    "    df[class_features] = df[class_features].fillna('Unknown')\n",
    "    df[class_features] = df[class_features].astype('category')\n",
    "    return df\n",
    "    \n",
    "\n",
    "def cat_weight(df):\n",
    "    '''\n",
    "    Функция создает новый категориальный признак из \"Weight Capacity (kg)\"\n",
    "    приводит к типу \"category\"\n",
    "    '''\n",
    "    conditions = [\n",
    "        (df[\"Weight Capacity (kg)\"] <= 5),\n",
    "        (df[\"Weight Capacity (kg)\"]  > 5) & (df[\"Weight Capacity (kg)\"] <= 15),\n",
    "        (df[\"Weight Capacity (kg)\"]  > 15) & (df[\"Weight Capacity (kg)\"] <= 20),\n",
    "        (df[\"Weight Capacity (kg)\"]  > 20) & (df[\"Weight Capacity (kg)\"] <= 25),\n",
    "        (df[\"Weight Capacity (kg)\"] > 25)]\n",
    "    \n",
    "    choices = ['Light', 'Middle', 'Light_heavy', 'Middel_heavy','Heavy']\n",
    "    \n",
    "    df['Weight_Class'] = np.select(conditions, choices, default='')\n",
    "    df['Weight_Class'] = df['Weight_Class'].astype(\"category\")\n",
    "    \n",
    "    return df\n",
    "\n",
    "\n",
    "train = train.dropna(subset=['Weight Capacity (kg)'])\n",
    "test['Weight Capacity (kg)'] = test['Weight Capacity (kg)'].fillna(test['Weight Capacity (kg)'].mean())\n",
    "train_extra = train_extra.dropna(subset=['Weight Capacity (kg)'])\n",
    "\n",
    "train = cat_category(train)\n",
    "test = cat_category(test)\n",
    "train_extra = cat_category(train_extra)\n",
    "\n",
    "train = cat_weight(train)\n",
    "test = cat_weight(test)\n",
    "train_extra = cat_weight(train_extra)\n",
    "\n",
    "train.drop(columns='id', inplace=True)\n",
    "test.drop(columns='id', inplace=True)\n",
    "train_extra.drop(columns='id', inplace=True)\n",
    "\n",
    "train = pd.concat([train, train_extra], ignore_index=True)\n",
    "\n",
    "X = train.drop(columns='Price')\n",
    "y = train['Price']\n",
    "\n",
    "X_train, X_test, y_train, y_test = train_test_split(X, y, test_size=0.2, random_state=12)"
   ]
  },
  {
   "cell_type": "code",
   "execution_count": 11,
   "id": "c80a992d-99e6-43f7-a8ce-111d9659a506",
   "metadata": {},
   "outputs": [],
   "source": [
    "params = {'random_seed': 42,\n",
    "          'verbose': 0,\n",
    "          'eval_metric': 'RMSE',\n",
    "          'objective': 'RMSE',\n",
    "          'cat_features': list(X.columns[X.dtypes == 'category'])}"
   ]
  },
  {
   "cell_type": "code",
   "execution_count": 11,
   "id": "00ee65b2-c8cc-499f-9e9f-4231b390e1b7",
   "metadata": {
    "collapsed": true,
    "jupyter": {
     "outputs_hidden": true
    }
   },
   "outputs": [
    {
     "name": "stderr",
     "output_type": "stream",
     "text": [
      "[I 2025-02-06 14:50:23,843] A new study created in memory with name: no-name-d7515b4d-14f4-4c1b-a189-dc23a008ed65\n",
      "[I 2025-02-06 14:50:56,634] Trial 0 finished with value: 39.020659762258184 and parameters: {'iterations': 736, 'learning_rate': 0.0010675569384760778, 'depth': 8, 'l2_leaf_reg': 6.248694605124549e-05}. Best is trial 0 with value: 39.020659762258184.\n",
      "[I 2025-02-06 14:51:34,486] Trial 1 finished with value: 39.010635997274676 and parameters: {'iterations': 702, 'learning_rate': 0.0029497693085367054, 'depth': 9, 'l2_leaf_reg': 0.00016419060638883182}. Best is trial 1 with value: 39.010635997274676.\n",
      "[I 2025-02-06 14:54:49,956] Trial 2 finished with value: 39.3619555403973 and parameters: {'iterations': 1395, 'learning_rate': 0.01713722864978159, 'depth': 12, 'l2_leaf_reg': 4.840400262681113e-08}. Best is trial 1 with value: 39.010635997274676.\n",
      "[I 2025-02-06 14:56:08,661] Trial 3 finished with value: 39.02015311481166 and parameters: {'iterations': 607, 'learning_rate': 0.0015304495548303177, 'depth': 12, 'l2_leaf_reg': 2.199374846784304}. Best is trial 1 with value: 39.010635997274676.\n",
      "[I 2025-02-06 14:56:46,902] Trial 4 finished with value: 39.01145601129788 and parameters: {'iterations': 1409, 'learning_rate': 0.06359173657784686, 'depth': 4, 'l2_leaf_reg': 2.559661962346461e-07}. Best is trial 1 with value: 39.010635997274676.\n",
      "[I 2025-02-06 14:57:09,791] Trial 5 finished with value: 39.04618054312384 and parameters: {'iterations': 549, 'learning_rate': 0.0654905888774075, 'depth': 7, 'l2_leaf_reg': 0.00010053596072846251}. Best is trial 1 with value: 39.010635997274676.\n",
      "[I 2025-02-06 14:57:37,206] Trial 6 finished with value: 39.01243012197476 and parameters: {'iterations': 528, 'learning_rate': 0.012342491176758221, 'depth': 9, 'l2_leaf_reg': 5.051460547291843e-07}. Best is trial 1 with value: 39.010635997274676.\n",
      "[I 2025-02-06 14:58:02,416] Trial 7 finished with value: 39.004012767406444 and parameters: {'iterations': 1093, 'learning_rate': 0.07934106352348826, 'depth': 3, 'l2_leaf_reg': 6.938175653051758e-06}. Best is trial 7 with value: 39.004012767406444.\n",
      "[I 2025-02-06 14:58:35,324] Trial 8 finished with value: 38.99999077675967 and parameters: {'iterations': 1458, 'learning_rate': 0.029434058709742573, 'depth': 3, 'l2_leaf_reg': 9.005745981128208e-05}. Best is trial 8 with value: 38.99999077675967.\n",
      "[I 2025-02-06 14:59:06,705] Trial 9 finished with value: 39.00155960899832 and parameters: {'iterations': 1392, 'learning_rate': 0.055109467488856215, 'depth': 3, 'l2_leaf_reg': 3.284455191069119e-06}. Best is trial 8 with value: 38.99999077675967.\n",
      "[I 2025-02-06 14:59:41,571] Trial 10 finished with value: 39.002739486421405 and parameters: {'iterations': 1108, 'learning_rate': 0.0255086913874117, 'depth': 5, 'l2_leaf_reg': 0.03116355769788985}. Best is trial 8 with value: 38.99999077675967.\n",
      "[I 2025-02-06 15:00:28,394] Trial 11 finished with value: 39.010979291065695 and parameters: {'iterations': 1481, 'learning_rate': 0.03141834616343801, 'depth': 5, 'l2_leaf_reg': 0.007945650369930928}. Best is trial 8 with value: 38.99999077675967.\n",
      "[I 2025-02-06 15:00:57,738] Trial 12 finished with value: 39.00836400600333 and parameters: {'iterations': 1309, 'learning_rate': 0.004873689276213765, 'depth': 3, 'l2_leaf_reg': 3.365638228935323e-06}. Best is trial 8 with value: 38.99999077675967.\n",
      "[I 2025-02-06 15:01:43,378] Trial 13 finished with value: 39.02634438178335 and parameters: {'iterations': 1255, 'learning_rate': 0.0367264357842153, 'depth': 6, 'l2_leaf_reg': 0.004144120973726712}. Best is trial 8 with value: 38.99999077675967.\n",
      "[I 2025-02-06 15:02:10,436] Trial 14 finished with value: 39.00683877664814 and parameters: {'iterations': 1218, 'learning_rate': 0.006548861636379817, 'depth': 3, 'l2_leaf_reg': 1.51507994798943e-08}. Best is trial 8 with value: 38.99999077675967.\n",
      "[I 2025-02-06 15:02:39,457] Trial 15 finished with value: 39.00447581122625 and parameters: {'iterations': 901, 'learning_rate': 0.043333887485803295, 'depth': 5, 'l2_leaf_reg': 1.3878351655837113e-05}. Best is trial 8 with value: 38.99999077675967.\n",
      "[I 2025-02-06 15:03:03,963] Trial 16 finished with value: 38.99891927627342 and parameters: {'iterations': 934, 'learning_rate': 0.015921861697403002, 'depth': 4, 'l2_leaf_reg': 0.0029261943947529005}. Best is trial 16 with value: 38.99891927627342.\n",
      "[I 2025-02-06 15:03:37,422] Trial 17 finished with value: 39.00193826394353 and parameters: {'iterations': 899, 'learning_rate': 0.017291039436711543, 'depth': 6, 'l2_leaf_reg': 0.5006273948519427}. Best is trial 16 with value: 38.99891927627342.\n",
      "[I 2025-02-06 15:04:02,794] Trial 18 finished with value: 39.00427842497609 and parameters: {'iterations': 949, 'learning_rate': 0.008467676568540038, 'depth': 4, 'l2_leaf_reg': 0.001315107644674191}. Best is trial 16 with value: 38.99891927627342.\n",
      "[I 2025-02-06 15:04:58,978] Trial 19 finished with value: 39.09653253668111 and parameters: {'iterations': 780, 'learning_rate': 0.0220696782895994, 'depth': 10, 'l2_leaf_reg': 0.0918281341133993}. Best is trial 16 with value: 38.99891927627342.\n",
      "[I 2025-02-06 15:05:26,668] Trial 20 finished with value: 39.00164423547201 and parameters: {'iterations': 1064, 'learning_rate': 0.011145301012814733, 'depth': 4, 'l2_leaf_reg': 0.0006702751423196155}. Best is trial 16 with value: 38.99891927627342.\n",
      "[I 2025-02-06 15:05:54,025] Trial 21 finished with value: 39.002138149377444 and parameters: {'iterations': 1193, 'learning_rate': 0.053725133023313824, 'depth': 3, 'l2_leaf_reg': 1.2994770852167701e-06}. Best is trial 16 with value: 38.99891927627342.\n",
      "[I 2025-02-06 15:06:33,438] Trial 22 finished with value: 39.02243745627264 and parameters: {'iterations': 1488, 'learning_rate': 0.08466845007060518, 'depth': 4, 'l2_leaf_reg': 2.2385586574087096e-05}. Best is trial 16 with value: 38.99891927627342.\n",
      "[I 2025-02-06 15:07:24,664] Trial 23 finished with value: 39.036330691175664 and parameters: {'iterations': 1338, 'learning_rate': 0.04229216379221481, 'depth': 6, 'l2_leaf_reg': 0.0003436956383300568}. Best is trial 16 with value: 38.99891927627342.\n",
      "[I 2025-02-06 15:07:43,684] Trial 24 finished with value: 39.00205340959138 and parameters: {'iterations': 820, 'learning_rate': 0.016906474592050188, 'depth': 3, 'l2_leaf_reg': 0.0037308744117452533}. Best is trial 16 with value: 38.99891927627342.\n",
      "[I 2025-02-06 15:08:15,475] Trial 25 finished with value: 39.000844565111024 and parameters: {'iterations': 1021, 'learning_rate': 0.026373142489901216, 'depth': 5, 'l2_leaf_reg': 0.03939079103353094}. Best is trial 16 with value: 38.99891927627342.\n",
      "[I 2025-02-06 15:08:47,080] Trial 26 finished with value: 39.00096535373424 and parameters: {'iterations': 1005, 'learning_rate': 0.025069589096589316, 'depth': 5, 'l2_leaf_reg': 0.17894643967071638}. Best is trial 16 with value: 38.99891927627342.\n",
      "[I 2025-02-06 15:09:35,072] Trial 27 finished with value: 39.006023159851914 and parameters: {'iterations': 1177, 'learning_rate': 0.004095380096384621, 'depth': 7, 'l2_leaf_reg': 9.394018571943484}. Best is trial 16 with value: 38.99891927627342.\n",
      "[I 2025-02-06 15:10:02,475] Trial 28 finished with value: 39.00023467394363 and parameters: {'iterations': 1019, 'learning_rate': 0.01393937729553166, 'depth': 4, 'l2_leaf_reg': 0.028884428535044433}. Best is trial 16 with value: 38.99891927627342.\n",
      "[I 2025-02-06 15:10:22,292] Trial 29 finished with value: 39.00683436561982 and parameters: {'iterations': 691, 'learning_rate': 0.007907194152243448, 'depth': 4, 'l2_leaf_reg': 5.207161461553968e-05}. Best is trial 16 with value: 38.99891927627342.\n"
     ]
    }
   ],
   "source": [
    "# def objective(trial: optuna.Trial):\n",
    "#     '''\n",
    "#     Обычная сигнатура функции оптимизации для optuna.\n",
    "#     '''\n",
    "#     params = {\n",
    "#         'random_seed': 42,\n",
    "#         'verbose': 0,\n",
    "#         'eval_metric': 'RMSE',\n",
    "#         'iterations': trial.suggest_int('iterations', 500, 1500),\n",
    "#         'learning_rate': trial.suggest_float('learning_rate', 1e-3, 0.1, log=True),\n",
    "#         'depth': trial.suggest_int('depth', 3, 12),\n",
    "#         'l2_leaf_reg': trial.suggest_float('l2_leaf_reg', 1e-8, 10.0, log=True),\n",
    "#         # 'bagging_temperature': trial.suggest_float('bagging_temperature', 0.0, 10.0),\n",
    "#         # 'random_strength': trial.suggest_float(\"random_strength\", 1e-8, 10.0, log=True)\n",
    "#     }\n",
    "    \n",
    "#     model = CatBoostRegressor(**params)\n",
    "#     model.fit(X_train, y_train)\n",
    "#     predictions = model.predict(X_test)\n",
    "#     return root_mean_squared_error(y_test, predictions)\n",
    "    \n",
    "# study = optuna.create_study(direction='minimize')\n",
    "# study.optimize(objective, n_trials=30)"
   ]
  },
  {
   "cell_type": "code",
   "execution_count": 12,
   "id": "36a1b6de-847f-426d-b028-e1e6b461210d",
   "metadata": {},
   "outputs": [
    {
     "data": {
      "text/plain": [
       "{'iterations': 934,\n",
       " 'learning_rate': 0.015921861697403002,\n",
       " 'depth': 4,\n",
       " 'l2_leaf_reg': 0.0029261943947529005}"
      ]
     },
     "execution_count": 12,
     "metadata": {},
     "output_type": "execute_result"
    }
   ],
   "source": [
    "# study.best_params"
   ]
  },
  {
   "cell_type": "code",
   "execution_count": 13,
   "id": "1e576d8b-e3d9-42e9-aa74-6a1e4db3e16a",
   "metadata": {},
   "outputs": [],
   "source": [
    "params = {'random_seed': 42,\n",
    "          'verbose': 0,\n",
    "          'eval_metric': 'RMSE'}\n",
    "\n",
    "study_params_0 = {'random_seed': 42,\n",
    "          'verbose': 0,\n",
    "          'eval_metric': 'RMSE',\n",
    "          'iterations': 934,\n",
    "          'learning_rate': 0.015921861697403002,\n",
    "          'depth': 4,\n",
    "          'l2_leaf_reg': 0.0029261943947529005}"
   ]
  },
  {
   "cell_type": "code",
   "execution_count": 12,
   "id": "d6dd276e-1886-42c9-8107-bfee1963e9ce",
   "metadata": {},
   "outputs": [
    {
     "data": {
      "text/plain": [
       "38.88671161250964"
      ]
     },
     "execution_count": 12,
     "metadata": {},
     "output_type": "execute_result"
    }
   ],
   "source": [
    "cat_model = CatBoostRegressor(**params)\n",
    "cat_model.fit(X_train, y_train)\n",
    "\n",
    "y_pred = cat_model.predict(X_test)\n",
    "rmse = root_mean_squared_error(y_test, y_pred)\n",
    "pred = cat_model.predict(test)\n",
    "rmse"
   ]
  },
  {
   "cell_type": "code",
   "execution_count": 13,
   "id": "4791f4b2-43bd-4888-b563-e2b0a6896e11",
   "metadata": {},
   "outputs": [],
   "source": [
    "output = pd.DataFrame({'id': test_id, 'Price': pred})\n",
    "output.to_csv('data/cat_model.csv', index=False)"
   ]
  },
  {
   "cell_type": "code",
   "execution_count": 40,
   "id": "838a0778-30d7-439c-ac10-f8f96a9cb4cd",
   "metadata": {},
   "outputs": [
    {
     "data": {
      "text/html": [
       "<div>\n",
       "<style scoped>\n",
       "    .dataframe tbody tr th:only-of-type {\n",
       "        vertical-align: middle;\n",
       "    }\n",
       "\n",
       "    .dataframe tbody tr th {\n",
       "        vertical-align: top;\n",
       "    }\n",
       "\n",
       "    .dataframe thead th {\n",
       "        text-align: right;\n",
       "    }\n",
       "</style>\n",
       "<table border=\"1\" class=\"dataframe\">\n",
       "  <thead>\n",
       "    <tr style=\"text-align: right;\">\n",
       "      <th></th>\n",
       "      <th>id</th>\n",
       "      <th>Price</th>\n",
       "    </tr>\n",
       "  </thead>\n",
       "  <tbody>\n",
       "    <tr>\n",
       "      <th>0</th>\n",
       "      <td>300000</td>\n",
       "      <td>80.050680</td>\n",
       "    </tr>\n",
       "    <tr>\n",
       "      <th>1</th>\n",
       "      <td>300001</td>\n",
       "      <td>81.634332</td>\n",
       "    </tr>\n",
       "    <tr>\n",
       "      <th>2</th>\n",
       "      <td>300002</td>\n",
       "      <td>82.447633</td>\n",
       "    </tr>\n",
       "    <tr>\n",
       "      <th>3</th>\n",
       "      <td>300003</td>\n",
       "      <td>80.905903</td>\n",
       "    </tr>\n",
       "    <tr>\n",
       "      <th>4</th>\n",
       "      <td>300004</td>\n",
       "      <td>80.239963</td>\n",
       "    </tr>\n",
       "    <tr>\n",
       "      <th>...</th>\n",
       "      <td>...</td>\n",
       "      <td>...</td>\n",
       "    </tr>\n",
       "    <tr>\n",
       "      <th>199995</th>\n",
       "      <td>499995</td>\n",
       "      <td>79.744972</td>\n",
       "    </tr>\n",
       "    <tr>\n",
       "      <th>199996</th>\n",
       "      <td>499996</td>\n",
       "      <td>71.465772</td>\n",
       "    </tr>\n",
       "    <tr>\n",
       "      <th>199997</th>\n",
       "      <td>499997</td>\n",
       "      <td>82.130344</td>\n",
       "    </tr>\n",
       "    <tr>\n",
       "      <th>199998</th>\n",
       "      <td>499998</td>\n",
       "      <td>82.350369</td>\n",
       "    </tr>\n",
       "    <tr>\n",
       "      <th>199999</th>\n",
       "      <td>499999</td>\n",
       "      <td>79.961127</td>\n",
       "    </tr>\n",
       "  </tbody>\n",
       "</table>\n",
       "<p>200000 rows × 2 columns</p>\n",
       "</div>"
      ],
      "text/plain": [
       "            id      Price\n",
       "0       300000  80.050680\n",
       "1       300001  81.634332\n",
       "2       300002  82.447633\n",
       "3       300003  80.905903\n",
       "4       300004  80.239963\n",
       "...        ...        ...\n",
       "199995  499995  79.744972\n",
       "199996  499996  71.465772\n",
       "199997  499997  82.130344\n",
       "199998  499998  82.350369\n",
       "199999  499999  79.961127\n",
       "\n",
       "[200000 rows x 2 columns]"
      ]
     },
     "execution_count": 40,
     "metadata": {},
     "output_type": "execute_result"
    }
   ],
   "source": [
    "output"
   ]
  },
  {
   "cell_type": "markdown",
   "id": "f8134dc8-012b-4ea6-a088-7820122bfe11",
   "metadata": {
    "jp-MarkdownHeadingCollapsed": true
   },
   "source": [
    "# lgbm"
   ]
  },
  {
   "cell_type": "code",
   "execution_count": 3,
   "id": "93c40992-04e5-4d50-ac9c-f31a66565e46",
   "metadata": {},
   "outputs": [],
   "source": [
    "train = train.dropna(subset=['Weight Capacity (kg)'])\n",
    "test['Weight Capacity (kg)'] = test['Weight Capacity (kg)'].fillna(test['Weight Capacity (kg)'].mean())\n",
    "train_extra = train_extra.dropna(subset=['Weight Capacity (kg)'])\n",
    "\n",
    "def weight_split(df):\n",
    "    df['Light'] = (df[\"Weight Capacity (kg)\"] <= 5).astype(int)\n",
    "    df['Middle'] = ((df[\"Weight Capacity (kg)\"] > 5) & (train[\"Weight Capacity (kg)\"] <= 15)).astype(int)\n",
    "    df['Light_heavy'] = ((df[\"Weight Capacity (kg)\"] > 15) & (train[\"Weight Capacity (kg)\"] <= 20)).astype(int)\n",
    "    df['Middle_heavy'] = ((df[\"Weight Capacity (kg)\"] > 20) & (train[\"Weight Capacity (kg)\"] <= 25)).astype(int)\n",
    "    df['Heavy'] = (df[\"Weight Capacity (kg)\"] > 25).astype(int)\n",
    "    return df\n",
    "\n",
    "\n",
    "train = weight_split(train)\n",
    "test = weight_split(test)\n",
    "train_extra = weight_split(train_extra)\n",
    "\n",
    "class_features = ['Brand', 'Material', 'Size', 'Style', 'Color', 'Laptop Compartment', 'Waterproof']\n",
    "\n",
    "\n",
    "def cat_category(df):\n",
    "    df = pd.get_dummies(df, columns=class_features, dtype='int', dummy_na=True, drop_first=True)\n",
    "    return df\n",
    "    \n",
    "\n",
    "train = cat_category(train)\n",
    "test = cat_category(test)\n",
    "train_extra = cat_category(train_extra)\n",
    "\n",
    "train.drop(columns='id', inplace=True)\n",
    "test.drop(columns='id', inplace=True)\n",
    "\n",
    "train_extra.drop(columns='id', inplace=True)\n",
    "\n",
    "train = pd.concat([train, train_extra], ignore_index=True)\n",
    "\n",
    "X = train.drop(columns='Price')\n",
    "y = train['Price']\n",
    "\n",
    "X_train, X_test, y_train, y_test = train_test_split(X, y, test_size=0.2, random_state=42)"
   ]
  },
  {
   "cell_type": "code",
   "execution_count": 11,
   "id": "78089155-9e9c-4623-adad-dd54ba6e3b17",
   "metadata": {
    "collapsed": true,
    "jupyter": {
     "outputs_hidden": true
    }
   },
   "outputs": [
    {
     "name": "stderr",
     "output_type": "stream",
     "text": [
      "[I 2025-02-10 11:36:51,568] A new study created in memory with name: no-name-87607daa-4c21-47ee-90b1-603ff6bcbcc1\n",
      "[I 2025-02-10 11:36:58,069] Trial 0 finished with value: 39.007888207531444 and parameters: {'learning_rate': 0.013402766080797287, 'n_estimators': 493, 'lambda_l1': 1.232011048248966e-07, 'lambda_l2': 4.1690167725069076e-07, 'max_depth': 22, 'min_child_samples': 49, 'feature_fraction': 0.6724558028312183, 'bagging_fraction': 0.6124468825521593}. Best is trial 0 with value: 39.007888207531444.\n",
      "[I 2025-02-10 11:37:03,068] Trial 1 finished with value: 39.00355943978649 and parameters: {'learning_rate': 0.010779073296606441, 'n_estimators': 414, 'lambda_l1': 6.747942111184449e-07, 'lambda_l2': 0.03458788070475433, 'max_depth': 10, 'min_child_samples': 16, 'feature_fraction': 0.44366951177929537, 'bagging_fraction': 0.5320694776951937}. Best is trial 1 with value: 39.00355943978649.\n",
      "[I 2025-02-10 11:37:05,287] Trial 2 finished with value: 39.00754236125649 and parameters: {'learning_rate': 0.023695783639950427, 'n_estimators': 192, 'lambda_l1': 0.0005607987649606123, 'lambda_l2': 5.797829509334511, 'max_depth': 14, 'min_child_samples': 10, 'feature_fraction': 0.9716600542665231, 'bagging_fraction': 0.4818485618112258}. Best is trial 1 with value: 39.00355943978649.\n",
      "[I 2025-02-10 11:37:12,707] Trial 3 finished with value: 39.05702070419789 and parameters: {'learning_rate': 0.04805992130067926, 'n_estimators': 736, 'lambda_l1': 1.9011678356710944, 'lambda_l2': 2.4330098778047586e-05, 'max_depth': 16, 'min_child_samples': 10, 'feature_fraction': 0.9764240744358142, 'bagging_fraction': 0.7031381321506514}. Best is trial 1 with value: 39.00355943978649.\n",
      "[I 2025-02-10 11:37:17,056] Trial 4 finished with value: 39.048296835002716 and parameters: {'learning_rate': 0.08159070454300274, 'n_estimators': 483, 'lambda_l1': 6.131736395352628e-06, 'lambda_l2': 0.6346149926056375, 'max_depth': 15, 'min_child_samples': 43, 'feature_fraction': 0.4769497004193179, 'bagging_fraction': 0.5391577735553095}. Best is trial 1 with value: 39.00355943978649.\n",
      "[I 2025-02-10 11:37:23,249] Trial 5 finished with value: 39.012685590889035 and parameters: {'learning_rate': 0.02164934084571251, 'n_estimators': 562, 'lambda_l1': 0.0007980468959138019, 'lambda_l2': 6.169587901895066e-05, 'max_depth': 19, 'min_child_samples': 50, 'feature_fraction': 0.613756050983011, 'bagging_fraction': 0.7230051410430296}. Best is trial 1 with value: 39.00355943978649.\n",
      "[I 2025-02-10 11:37:31,277] Trial 6 finished with value: 39.12801078292646 and parameters: {'learning_rate': 0.08630776336564636, 'n_estimators': 785, 'lambda_l1': 0.266537216246166, 'lambda_l2': 0.006108334472156602, 'max_depth': 8, 'min_child_samples': 5, 'feature_fraction': 0.9625315820580136, 'bagging_fraction': 0.43962261536204744}. Best is trial 1 with value: 39.00355943978649.\n",
      "[I 2025-02-10 11:37:46,278] Trial 7 finished with value: 39.04835695578273 and parameters: {'learning_rate': 0.04456215983604764, 'n_estimators': 947, 'lambda_l1': 0.019179235930830145, 'lambda_l2': 0.00041186306685603796, 'max_depth': 21, 'min_child_samples': 30, 'feature_fraction': 0.6055400070017732, 'bagging_fraction': 0.7739238939767841}. Best is trial 1 with value: 39.00355943978649.\n",
      "[I 2025-02-10 11:37:50,467] Trial 8 finished with value: 39.007565340382875 and parameters: {'learning_rate': 0.01539113956678227, 'n_estimators': 425, 'lambda_l1': 1.48941295978649e-06, 'lambda_l2': 1.2196424605155033e-08, 'max_depth': 21, 'min_child_samples': 31, 'feature_fraction': 0.8344203450976371, 'bagging_fraction': 0.6533344772670024}. Best is trial 1 with value: 39.00355943978649.\n",
      "[I 2025-02-10 11:37:54,781] Trial 9 finished with value: 39.013423577009725 and parameters: {'learning_rate': 0.029022121477165715, 'n_estimators': 460, 'lambda_l1': 1.9751931334514068e-08, 'lambda_l2': 5.42142153324952e-06, 'max_depth': 25, 'min_child_samples': 7, 'feature_fraction': 0.8624763813960353, 'bagging_fraction': 0.6362401942002884}. Best is trial 1 with value: 39.00355943978649.\n",
      "[I 2025-02-10 11:37:57,885] Trial 10 finished with value: 39.011994354573545 and parameters: {'learning_rate': 0.010461614063214254, 'n_estimators': 183, 'lambda_l1': 1.3574377861085716e-05, 'lambda_l2': 0.031893663181753074, 'max_depth': 5, 'min_child_samples': 22, 'feature_fraction': 0.41807656533294796, 'bagging_fraction': 0.8120684756531334}. Best is trial 1 with value: 39.00355943978649.\n",
      "[I 2025-02-10 11:37:59,757] Trial 11 finished with value: 39.006823378548944 and parameters: {'learning_rate': 0.01875612563735256, 'n_estimators': 115, 'lambda_l1': 0.0001975694550727862, 'lambda_l2': 9.61789591382506, 'max_depth': 11, 'min_child_samples': 19, 'feature_fraction': 0.7853225688293151, 'bagging_fraction': 0.9682718612503396}. Best is trial 1 with value: 39.00355943978649.\n",
      "[I 2025-02-10 11:38:02,742] Trial 12 finished with value: 39.00471542753403 and parameters: {'learning_rate': 0.01649913093781803, 'n_estimators': 258, 'lambda_l1': 9.865477240306815e-05, 'lambda_l2': 0.18755398831977774, 'max_depth': 10, 'min_child_samples': 20, 'feature_fraction': 0.7758496099182691, 'bagging_fraction': 0.9974184710267331}. Best is trial 1 with value: 39.00355943978649.\n",
      "[I 2025-02-10 11:38:08,912] Trial 13 finished with value: 39.004491628801766 and parameters: {'learning_rate': 0.010278821785573012, 'n_estimators': 314, 'lambda_l1': 3.7496613622898174e-07, 'lambda_l2': 0.051486621662411323, 'max_depth': 10, 'min_child_samples': 19, 'feature_fraction': 0.5080287377330892, 'bagging_fraction': 0.965971034009176}. Best is trial 1 with value: 39.00355943978649.\n",
      "[I 2025-02-10 11:38:14,506] Trial 14 finished with value: 39.0058650732493 and parameters: {'learning_rate': 0.010086941182483334, 'n_estimators': 317, 'lambda_l1': 2.4881081845346975e-07, 'lambda_l2': 0.003052288822816553, 'max_depth': 6, 'min_child_samples': 15, 'feature_fraction': 0.529347842477915, 'bagging_fraction': 0.8834060194697375}. Best is trial 1 with value: 39.00355943978649.\n",
      "[I 2025-02-10 11:38:18,980] Trial 15 finished with value: 39.00472388509251 and parameters: {'learning_rate': 0.012301736235373024, 'n_estimators': 322, 'lambda_l1': 5.954064327428392e-08, 'lambda_l2': 0.09571023990517641, 'max_depth': 12, 'min_child_samples': 26, 'feature_fraction': 0.425325072747342, 'bagging_fraction': 0.5465680488001528}. Best is trial 1 with value: 39.00355943978649.\n",
      "[I 2025-02-10 11:38:26,317] Trial 16 finished with value: 39.01998320914189 and parameters: {'learning_rate': 0.032785320333176424, 'n_estimators': 631, 'lambda_l1': 1.1166568382880325e-06, 'lambda_l2': 0.0019439866760634806, 'max_depth': 8, 'min_child_samples': 35, 'feature_fraction': 0.5302086242193005, 'bagging_fraction': 0.8840891541894175}. Best is trial 1 with value: 39.00355943978649.\n",
      "[I 2025-02-10 11:38:31,027] Trial 17 finished with value: 39.00367018102466 and parameters: {'learning_rate': 0.013372198014210622, 'n_estimators': 362, 'lambda_l1': 1.6491678086382785e-08, 'lambda_l2': 1.161806935388044, 'max_depth': 9, 'min_child_samples': 15, 'feature_fraction': 0.514890131546624, 'bagging_fraction': 0.40827609971096235}. Best is trial 1 with value: 39.00355943978649.\n",
      "[I 2025-02-10 11:38:36,218] Trial 18 finished with value: 39.00507529218808 and parameters: {'learning_rate': 0.013947800832400393, 'n_estimators': 390, 'lambda_l1': 1.5783718930554456e-08, 'lambda_l2': 0.9942962327897502, 'max_depth': 13, 'min_child_samples': 13, 'feature_fraction': 0.6073747782528498, 'bagging_fraction': 0.4019628338787083}. Best is trial 1 with value: 39.00355943978649.\n",
      "[I 2025-02-10 11:38:45,079] Trial 19 finished with value: 39.008072816604276 and parameters: {'learning_rate': 0.01994535915811473, 'n_estimators': 656, 'lambda_l1': 1.5203524201839974e-05, 'lambda_l2': 1.3446118843446873, 'max_depth': 8, 'min_child_samples': 15, 'feature_fraction': 0.47803262066031016, 'bagging_fraction': 0.5103963693803075}. Best is trial 1 with value: 39.00355943978649.\n",
      "[I 2025-02-10 11:38:53,023] Trial 20 finished with value: 39.01019481710713 and parameters: {'learning_rate': 0.02703509217761039, 'n_estimators': 570, 'lambda_l1': 1.0542388411016159e-08, 'lambda_l2': 0.015697297186818452, 'max_depth': 17, 'min_child_samples': 25, 'feature_fraction': 0.4015575946751789, 'bagging_fraction': 0.4586844295068589}. Best is trial 1 with value: 39.00355943978649.\n",
      "[I 2025-02-10 11:38:58,334] Trial 21 finished with value: 39.0032576736956 and parameters: {'learning_rate': 0.011693082235048755, 'n_estimators': 344, 'lambda_l1': 4.014547980278532e-07, 'lambda_l2': 0.10631096380049729, 'max_depth': 10, 'min_child_samples': 18, 'feature_fraction': 0.5373589929134059, 'bagging_fraction': 0.5771221426417206}. Best is trial 21 with value: 39.0032576736956.\n",
      "[I 2025-02-10 11:39:03,797] Trial 22 finished with value: 39.005555143674876 and parameters: {'learning_rate': 0.01288670707086381, 'n_estimators': 404, 'lambda_l1': 1.7361350857217749e-06, 'lambda_l2': 0.3859012447095997, 'max_depth': 7, 'min_child_samples': 16, 'feature_fraction': 0.563514023513566, 'bagging_fraction': 0.5737520388719145}. Best is trial 21 with value: 39.0032576736956.\n",
      "[I 2025-02-10 11:39:07,015] Trial 23 finished with value: 39.00533541433658 and parameters: {'learning_rate': 0.01726424940898202, 'n_estimators': 251, 'lambda_l1': 7.744937260657568e-08, 'lambda_l2': 0.0010402423599611755, 'max_depth': 10, 'min_child_samples': 11, 'feature_fraction': 0.6883419854473023, 'bagging_fraction': 0.41523783257123414}. Best is trial 21 with value: 39.0032576736956.\n",
      "[I 2025-02-10 11:39:12,471] Trial 24 finished with value: 39.00254288227034 and parameters: {'learning_rate': 0.012364257363166114, 'n_estimators': 400, 'lambda_l1': 5.034851259564118e-07, 'lambda_l2': 2.699821686767958, 'max_depth': 12, 'min_child_samples': 24, 'feature_fraction': 0.47071209924287577, 'bagging_fraction': 0.5989351011382446}. Best is trial 24 with value: 39.00254288227034.\n",
      "[I 2025-02-10 11:39:19,795] Trial 25 finished with value: 39.002466823255425 and parameters: {'learning_rate': 0.011622028906040744, 'n_estimators': 498, 'lambda_l1': 0.004056809375647149, 'lambda_l2': 3.7079806825365917, 'max_depth': 12, 'min_child_samples': 36, 'feature_fraction': 0.44065976544041124, 'bagging_fraction': 0.5974575830096508}. Best is trial 25 with value: 39.002466823255425.\n",
      "[I 2025-02-10 11:39:27,206] Trial 26 finished with value: 39.00488172355282 and parameters: {'learning_rate': 0.01601114512161113, 'n_estimators': 546, 'lambda_l1': 0.009686673591551646, 'lambda_l2': 5.128282746743974, 'max_depth': 13, 'min_child_samples': 38, 'feature_fraction': 0.46620265070111194, 'bagging_fraction': 0.6109338067828555}. Best is trial 25 with value: 39.002466823255425.\n",
      "[I 2025-02-10 11:39:34,558] Trial 27 finished with value: 39.05086772514981 and parameters: {'learning_rate': 0.061852000502742976, 'n_estimators': 653, 'lambda_l1': 0.005380099266743498, 'lambda_l2': 2.2785418903704904, 'max_depth': 12, 'min_child_samples': 35, 'feature_fraction': 0.6530412770458264, 'bagging_fraction': 0.6759485146161847}. Best is trial 25 with value: 39.002466823255425.\n",
      "[I 2025-02-10 11:39:37,210] Trial 28 finished with value: 39.008129695300575 and parameters: {'learning_rate': 0.03598827836157122, 'n_estimators': 250, 'lambda_l1': 5.172686610418474e-05, 'lambda_l2': 0.20694456690426463, 'max_depth': 17, 'min_child_samples': 41, 'feature_fraction': 0.5758306553954328, 'bagging_fraction': 0.5948129888544594}. Best is trial 25 with value: 39.002466823255425.\n",
      "[I 2025-02-10 11:39:43,445] Trial 29 finished with value: 39.00533166541579 and parameters: {'learning_rate': 0.012234369115210846, 'n_estimators': 510, 'lambda_l1': 0.11552350863820823, 'lambda_l2': 4.0287454279040966e-07, 'max_depth': 15, 'min_child_samples': 29, 'feature_fraction': 0.7404138772993104, 'bagging_fraction': 0.7578441392001205}. Best is trial 25 with value: 39.002466823255425.\n",
      "[I 2025-02-10 11:39:55,517] Trial 30 finished with value: 39.021505695245885 and parameters: {'learning_rate': 0.023145278192084257, 'n_estimators': 980, 'lambda_l1': 0.001923755238751168, 'lambda_l2': 0.011682570192615137, 'max_depth': 12, 'min_child_samples': 46, 'feature_fraction': 0.5550805741643867, 'bagging_fraction': 0.6273734188211243}. Best is trial 25 with value: 39.002466823255425.\n",
      "[I 2025-02-10 11:40:02,329] Trial 31 finished with value: 39.003595646425374 and parameters: {'learning_rate': 0.011569217505688855, 'n_estimators': 440, 'lambda_l1': 5.214404508952702e-07, 'lambda_l2': 0.10757621502734424, 'max_depth': 11, 'min_child_samples': 24, 'feature_fraction': 0.4435491724782988, 'bagging_fraction': 0.5487114555776732}. Best is trial 25 with value: 39.002466823255425.\n",
      "[I 2025-02-10 11:40:07,349] Trial 32 finished with value: 39.00180317508332 and parameters: {'learning_rate': 0.015159995247046374, 'n_estimators': 359, 'lambda_l1': 5.4419696218272145e-06, 'lambda_l2': 9.914967497605163, 'max_depth': 14, 'min_child_samples': 33, 'feature_fraction': 0.4633324430907143, 'bagging_fraction': 0.5043018299962971}. Best is trial 32 with value: 39.00180317508332.\n",
      "[I 2025-02-10 11:40:11,863] Trial 33 finished with value: 39.00364332583413 and parameters: {'learning_rate': 0.014277815836067026, 'n_estimators': 368, 'lambda_l1': 3.930236646918792e-06, 'lambda_l2': 4.091747856133253, 'max_depth': 14, 'min_child_samples': 33, 'feature_fraction': 0.49016132060952833, 'bagging_fraction': 0.49676610469618543}. Best is trial 32 with value: 39.00180317508332.\n",
      "[I 2025-02-10 11:40:16,054] Trial 34 finished with value: 39.00431707295014 and parameters: {'learning_rate': 0.012045096213289301, 'n_estimators': 302, 'lambda_l1': 3.4685013169479075e-05, 'lambda_l2': 2.977019326644391, 'max_depth': 18, 'min_child_samples': 39, 'feature_fraction': 0.4605708268393914, 'bagging_fraction': 0.5837257113745679}. Best is trial 32 with value: 39.00180317508332.\n",
      "[I 2025-02-10 11:40:22,488] Trial 35 finished with value: 39.00469807283565 and parameters: {'learning_rate': 0.01942050626837582, 'n_estimators': 508, 'lambda_l1': 1.5268981042652752e-07, 'lambda_l2': 0.4780978891271034, 'max_depth': 14, 'min_child_samples': 28, 'feature_fraction': 0.43885400532036845, 'bagging_fraction': 0.48658084464142404}. Best is trial 32 with value: 39.00180317508332.\n",
      "[I 2025-02-10 11:40:25,169] Trial 36 finished with value: 39.00639183175558 and parameters: {'learning_rate': 0.014534738365786764, 'n_estimators': 180, 'lambda_l1': 6.031250118781031e-06, 'lambda_l2': 8.864491936702814, 'max_depth': 15, 'min_child_samples': 33, 'feature_fraction': 0.5057347742509557, 'bagging_fraction': 0.6768977009608159}. Best is trial 32 with value: 39.00180317508332.\n",
      "[I 2025-02-10 11:40:33,313] Trial 37 finished with value: 39.005353901042085 and parameters: {'learning_rate': 0.011301726879517873, 'n_estimators': 603, 'lambda_l1': 3.2958796287283385, 'lambda_l2': 0.35622369561698564, 'max_depth': 13, 'min_child_samples': 45, 'feature_fraction': 0.6496816678265656, 'bagging_fraction': 0.5214327501766558}. Best is trial 32 with value: 39.00180317508332.\n",
      "[I 2025-02-10 11:40:42,885] Trial 38 finished with value: 39.00770370983099 and parameters: {'learning_rate': 0.017686468439257953, 'n_estimators': 720, 'lambda_l1': 0.051194757932887684, 'lambda_l2': 1.8820712496035776, 'max_depth': 16, 'min_child_samples': 22, 'feature_fraction': 0.5470211711530012, 'bagging_fraction': 0.5623673904939632}. Best is trial 32 with value: 39.00180317508332.\n",
      "[I 2025-02-10 11:40:48,767] Trial 39 finished with value: 39.008371100202766 and parameters: {'learning_rate': 0.02457219830630378, 'n_estimators': 482, 'lambda_l1': 0.0006285520210323272, 'lambda_l2': 9.36359857530727, 'max_depth': 9, 'min_child_samples': 37, 'feature_fraction': 0.4005774176477037, 'bagging_fraction': 0.44801163157563106}. Best is trial 32 with value: 39.00180317508332.\n",
      "[I 2025-02-10 11:40:52,965] Trial 40 finished with value: 39.00321386130584 and parameters: {'learning_rate': 0.0154819904856021, 'n_estimators': 363, 'lambda_l1': 0.9174025756626811, 'lambda_l2': 4.504366479725607e-05, 'max_depth': 11, 'min_child_samples': 33, 'feature_fraction': 0.4561929436585884, 'bagging_fraction': 0.7263695142429172}. Best is trial 32 with value: 39.00180317508332.\n",
      "[I 2025-02-10 11:40:57,180] Trial 41 finished with value: 39.00210399621847 and parameters: {'learning_rate': 0.014854536632765753, 'n_estimators': 355, 'lambda_l1': 0.3476385678195031, 'lambda_l2': 4.2455988016412383e-05, 'max_depth': 12, 'min_child_samples': 31, 'feature_fraction': 0.46414814651471126, 'bagging_fraction': 0.727933204760604}. Best is trial 32 with value: 39.00180317508332.\n",
      "[I 2025-02-10 11:41:02,477] Trial 42 finished with value: 39.00283178644176 and parameters: {'learning_rate': 0.01557149050243183, 'n_estimators': 445, 'lambda_l1': 0.30799630854236626, 'lambda_l2': 4.219401887085052e-05, 'max_depth': 11, 'min_child_samples': 32, 'feature_fraction': 0.4466181233873793, 'bagging_fraction': 0.72457628446843}. Best is trial 32 with value: 39.00180317508332.\n",
      "[I 2025-02-10 11:41:07,243] Trial 43 finished with value: 39.002131979037934 and parameters: {'learning_rate': 0.020157748708304273, 'n_estimators': 437, 'lambda_l1': 1.0968990274654573, 'lambda_l2': 4.93854075413429e-06, 'max_depth': 13, 'min_child_samples': 31, 'feature_fraction': 0.49147124053399444, 'bagging_fraction': 0.7997546080288697}. Best is trial 32 with value: 39.00180317508332.\n",
      "[I 2025-02-10 11:41:12,526] Trial 44 finished with value: 39.00580003919737 and parameters: {'learning_rate': 0.02021443444424744, 'n_estimators': 423, 'lambda_l1': 9.670751112099527, 'lambda_l2': 5.299268256544145e-06, 'max_depth': 15, 'min_child_samples': 27, 'feature_fraction': 0.4828201998986757, 'bagging_fraction': 0.8275299028517897}. Best is trial 32 with value: 39.00180317508332.\n",
      "[I 2025-02-10 11:41:17,765] Trial 45 finished with value: 39.09599746166963 and parameters: {'learning_rate': 0.0996431498373883, 'n_estimators': 544, 'lambda_l1': 0.7536290488704892, 'lambda_l2': 3.528925116151692e-06, 'max_depth': 13, 'min_child_samples': 30, 'feature_fraction': 0.9331843855962227, 'bagging_fraction': 0.7896102730944401}. Best is trial 32 with value: 39.00180317508332.\n",
      "[I 2025-02-10 11:41:30,263] Trial 46 finished with value: 39.018007103761036 and parameters: {'learning_rate': 0.022021171103843364, 'n_estimators': 869, 'lambda_l1': 0.03400672460653862, 'lambda_l2': 9.656075555199786e-07, 'max_depth': 16, 'min_child_samples': 36, 'feature_fraction': 0.5826195035332212, 'bagging_fraction': 0.6929644436795979}. Best is trial 32 with value: 39.00180317508332.\n",
      "[I 2025-02-10 11:41:34,135] Trial 47 finished with value: 39.00411882434434 and parameters: {'learning_rate': 0.0180474400372485, 'n_estimators': 278, 'lambda_l1': 0.1928989315889458, 'lambda_l2': 0.00020891710249727052, 'max_depth': 14, 'min_child_samples': 31, 'feature_fraction': 0.4223208246563158, 'bagging_fraction': 0.6398009534236375}. Best is trial 32 with value: 39.00180317508332.\n",
      "[I 2025-02-10 11:41:43,968] Trial 48 finished with value: 39.00340521224402 and parameters: {'learning_rate': 0.013393669713477387, 'n_estimators': 487, 'lambda_l1': 0.0016120917771384501, 'lambda_l2': 1.4125960588150314e-05, 'max_depth': 24, 'min_child_samples': 41, 'feature_fraction': 0.49875403726928264, 'bagging_fraction': 0.8536747246110956}. Best is trial 32 with value: 39.00180317508332.\n",
      "[I 2025-02-10 11:41:50,005] Trial 49 finished with value: 39.00297743403205 and parameters: {'learning_rate': 0.010672757432518137, 'n_estimators': 392, 'lambda_l1': 8.10179232067477, 'lambda_l2': 0.00018644371258627954, 'max_depth': 20, 'min_child_samples': 23, 'feature_fraction': 0.42773475846429154, 'bagging_fraction': 0.7687683517438428}. Best is trial 32 with value: 39.00180317508332.\n",
      "[I 2025-02-10 11:41:52,705] Trial 50 finished with value: 39.00380655315715 and parameters: {'learning_rate': 0.025585436408972238, 'n_estimators': 215, 'lambda_l1': 1.4766663976325833, 'lambda_l2': 3.0701719847737465e-07, 'max_depth': 12, 'min_child_samples': 28, 'feature_fraction': 0.5223410184143831, 'bagging_fraction': 0.6556151431980899}. Best is trial 32 with value: 39.00180317508332.\n",
      "[I 2025-02-10 11:41:58,676] Trial 51 finished with value: 39.002142735026865 and parameters: {'learning_rate': 0.015205628307748386, 'n_estimators': 454, 'lambda_l1': 0.4026368228995474, 'lambda_l2': 9.007282879370866e-05, 'max_depth': 12, 'min_child_samples': 33, 'feature_fraction': 0.45883854159790677, 'bagging_fraction': 0.7290061208389687}. Best is trial 32 with value: 39.00180317508332.\n",
      "[I 2025-02-10 11:42:07,080] Trial 52 finished with value: 39.002400825052646 and parameters: {'learning_rate': 0.014949931482241571, 'n_estimators': 451, 'lambda_l1': 0.45559674561108876, 'lambda_l2': 1.4663209684103768e-05, 'max_depth': 14, 'min_child_samples': 34, 'feature_fraction': 0.4713293807663619, 'bagging_fraction': 0.7465420603021816}. Best is trial 32 with value: 39.00180317508332.\n",
      "[I 2025-02-10 11:42:17,333] Trial 53 finished with value: 39.00277374038189 and parameters: {'learning_rate': 0.014387125711735033, 'n_estimators': 459, 'lambda_l1': 0.4089217315165893, 'lambda_l2': 1.4781200860643039e-05, 'max_depth': 14, 'min_child_samples': 34, 'feature_fraction': 0.4893751302544917, 'bagging_fraction': 0.7492114200676302}. Best is trial 32 with value: 39.00180317508332.\n",
      "[I 2025-02-10 11:42:25,819] Trial 54 finished with value: 39.004037433690854 and parameters: {'learning_rate': 0.01638544759251178, 'n_estimators': 520, 'lambda_l1': 0.08941845804476968, 'lambda_l2': 0.0001070169222406902, 'max_depth': 13, 'min_child_samples': 40, 'feature_fraction': 0.4058949592992693, 'bagging_fraction': 0.8165581486355005}. Best is trial 32 with value: 39.00180317508332.\n",
      "[I 2025-02-10 11:42:33,048] Trial 55 finished with value: 39.00614106242862 and parameters: {'learning_rate': 0.020912927534053286, 'n_estimators': 465, 'lambda_l1': 0.014028469206810362, 'lambda_l2': 0.0008761056565794086, 'max_depth': 14, 'min_child_samples': 36, 'feature_fraction': 0.44525425570188026, 'bagging_fraction': 0.7364993101413506}. Best is trial 32 with value: 39.00180317508332.\n",
      "[I 2025-02-10 11:42:37,977] Trial 56 finished with value: 39.004630629098486 and parameters: {'learning_rate': 0.01885824763861134, 'n_estimators': 340, 'lambda_l1': 0.00025599883142110857, 'lambda_l2': 1.7196422685005726e-06, 'max_depth': 9, 'min_child_samples': 31, 'feature_fraction': 0.516002744544033, 'bagging_fraction': 0.7853448175756137}. Best is trial 32 with value: 39.00180317508332.\n",
      "[I 2025-02-10 11:42:46,885] Trial 57 finished with value: 39.006286220420364 and parameters: {'learning_rate': 0.01710045803253609, 'n_estimators': 573, 'lambda_l1': 3.9050467566789253, 'lambda_l2': 1.9884741706824826e-07, 'max_depth': 15, 'min_child_samples': 38, 'feature_fraction': 0.5933228478619101, 'bagging_fraction': 0.7004871808802329}. Best is trial 32 with value: 39.00180317508332.\n",
      "[I 2025-02-10 11:42:53,590] Trial 58 finished with value: 39.002416555110145 and parameters: {'learning_rate': 0.013241678153364153, 'n_estimators': 424, 'lambda_l1': 0.5097137443223511, 'lambda_l2': 2.361009953409052e-05, 'max_depth': 17, 'min_child_samples': 29, 'feature_fraction': 0.4706493583691225, 'bagging_fraction': 0.8354633613567715}. Best is trial 32 with value: 39.00180317508332.\n",
      "[I 2025-02-10 11:42:59,902] Trial 59 finished with value: 39.00462939026853 and parameters: {'learning_rate': 0.013276644286660241, 'n_estimators': 420, 'lambda_l1': 2.1848314158550575, 'lambda_l2': 1.3806306392368592e-05, 'max_depth': 17, 'min_child_samples': 26, 'feature_fraction': 0.6257377070354687, 'bagging_fraction': 0.9236918396067546}. Best is trial 32 with value: 39.00180317508332.\n",
      "[I 2025-02-10 11:43:03,601] Trial 60 finished with value: 39.009854167234245 and parameters: {'learning_rate': 0.03671047142067975, 'n_estimators': 291, 'lambda_l1': 0.7206291130017927, 'lambda_l2': 0.0005182008325487728, 'max_depth': 18, 'min_child_samples': 29, 'feature_fraction': 0.4678809074152087, 'bagging_fraction': 0.8704031176357194}. Best is trial 32 with value: 39.00180317508332.\n",
      "[I 2025-02-10 11:43:09,224] Trial 61 finished with value: 39.00284840065267 and parameters: {'learning_rate': 0.014928173243299547, 'n_estimators': 380, 'lambda_l1': 0.14520511306299172, 'lambda_l2': 7.855807571548187e-05, 'max_depth': 16, 'min_child_samples': 35, 'feature_fraction': 0.4218750690566404, 'bagging_fraction': 0.8427770775120577}. Best is trial 32 with value: 39.00180317508332.\n",
      "[I 2025-02-10 11:43:18,190] Trial 62 finished with value: 39.003578843906155 and parameters: {'learning_rate': 0.011195331942927473, 'n_estimators': 529, 'lambda_l1': 0.06031766288752787, 'lambda_l2': 2.454251674425011e-05, 'max_depth': 11, 'min_child_samples': 32, 'feature_fraction': 0.49451699003080607, 'bagging_fraction': 0.8087095666436257}. Best is trial 32 with value: 39.00180317508332.\n",
      "[I 2025-02-10 11:43:23,198] Trial 63 finished with value: 39.00221561869155 and parameters: {'learning_rate': 0.01272986115877873, 'n_estimators': 336, 'lambda_l1': 0.44225714364857543, 'lambda_l2': 3.7145623560697486e-08, 'max_depth': 12, 'min_child_samples': 30, 'feature_fraction': 0.5332182785133219, 'bagging_fraction': 0.7799803256851983}. Best is trial 32 with value: 39.00180317508332.\n",
      "[I 2025-02-10 11:43:29,502] Trial 64 finished with value: 39.00371080846795 and parameters: {'learning_rate': 0.01343641935270239, 'n_estimators': 420, 'lambda_l1': 0.4274156225732309, 'lambda_l2': 7.033720614486816e-08, 'max_depth': 13, 'min_child_samples': 30, 'feature_fraction': 0.538803986419806, 'bagging_fraction': 0.7944850793677899}. Best is trial 32 with value: 39.00180317508332.\n",
      "[I 2025-02-10 11:43:34,792] Trial 65 finished with value: 39.00371022588066 and parameters: {'learning_rate': 0.01652965005499943, 'n_estimators': 337, 'lambda_l1': 1.5247357613276897, 'lambda_l2': 1.63673502916036e-08, 'max_depth': 16, 'min_child_samples': 27, 'feature_fraction': 0.4784598705201815, 'bagging_fraction': 0.746762677897315}. Best is trial 32 with value: 39.00180317508332.\n",
      "[I 2025-02-10 11:43:39,887] Trial 66 finished with value: 39.004186848559996 and parameters: {'learning_rate': 0.010124522120690862, 'n_estimators': 324, 'lambda_l1': 0.027070235415943583, 'lambda_l2': 1.3936605258127336e-06, 'max_depth': 12, 'min_child_samples': 34, 'feature_fraction': 0.5656000681639636, 'bagging_fraction': 0.9006025745135842}. Best is trial 32 with value: 39.00180317508332.\n",
      "[I 2025-02-10 11:43:45,624] Trial 67 finished with value: 39.002570148989314 and parameters: {'learning_rate': 0.012861827296166254, 'n_estimators': 355, 'lambda_l1': 4.835774495214875, 'lambda_l2': 7.275772513559264e-06, 'max_depth': 18, 'min_child_samples': 29, 'feature_fraction': 0.5136250591998321, 'bagging_fraction': 0.706419316629154}. Best is trial 32 with value: 39.00180317508332.\n",
      "[I 2025-02-10 11:43:52,911] Trial 68 finished with value: 39.00226261922277 and parameters: {'learning_rate': 0.014276137911182834, 'n_estimators': 467, 'lambda_l1': 0.5405820765726238, 'lambda_l2': 7.193877678218456e-08, 'max_depth': 11, 'min_child_samples': 32, 'feature_fraction': 0.4593407050992262, 'bagging_fraction': 0.7747206749961606}. Best is trial 32 with value: 39.00180317508332.\n",
      "[I 2025-02-10 11:43:58,541] Trial 69 finished with value: 39.01081762690546 and parameters: {'learning_rate': 0.018465140898562705, 'n_estimators': 469, 'lambda_l1': 0.22079066455440666, 'lambda_l2': 1.3028948227313965e-07, 'max_depth': 11, 'min_child_samples': 31, 'feature_fraction': 0.8294305600198737, 'bagging_fraction': 0.7592535199299506}. Best is trial 32 with value: 39.00180317508332.\n",
      "[I 2025-02-10 11:44:03,760] Trial 70 finished with value: 39.00290822165587 and parameters: {'learning_rate': 0.015117359760501603, 'n_estimators': 385, 'lambda_l1': 1.0253803523927547, 'lambda_l2': 3.414025031382208e-08, 'max_depth': 10, 'min_child_samples': 32, 'feature_fraction': 0.5300807773796244, 'bagging_fraction': 0.7696491373934958}. Best is trial 32 with value: 39.00180317508332.\n",
      "[I 2025-02-10 11:44:10,088] Trial 71 finished with value: 39.00152775011725 and parameters: {'learning_rate': 0.014096540552923083, 'n_estimators': 441, 'lambda_l1': 0.4929997006283267, 'lambda_l2': 3.536972671802839e-08, 'max_depth': 13, 'min_child_samples': 34, 'feature_fraction': 0.4645858551273576, 'bagging_fraction': 0.8389128874387093}. Best is trial 71 with value: 39.00152775011725.\n",
      "[I 2025-02-10 11:44:15,284] Trial 72 finished with value: 39.02757045165509 and parameters: {'learning_rate': 0.06061835016030613, 'n_estimators': 456, 'lambda_l1': 2.563295202803984, 'lambda_l2': 1.0572666607703738e-08, 'max_depth': 13, 'min_child_samples': 34, 'feature_fraction': 0.45703547742813055, 'bagging_fraction': 0.7928588787803551}. Best is trial 71 with value: 39.00152775011725.\n",
      "[I 2025-02-10 11:44:18,589] Trial 73 finished with value: 39.00525858187732 and parameters: {'learning_rate': 0.014534772918583547, 'n_estimators': 223, 'lambda_l1': 0.08432320248611218, 'lambda_l2': 4.561183735923519e-08, 'max_depth': 12, 'min_child_samples': 37, 'feature_fraction': 0.4329720312527385, 'bagging_fraction': 0.8060312791666776}. Best is trial 71 with value: 39.00152775011725.\n",
      "[I 2025-02-10 11:44:27,591] Trial 74 finished with value: 39.00421517707084 and parameters: {'learning_rate': 0.012461520470040345, 'n_estimators': 581, 'lambda_l1': 0.2833796245791739, 'lambda_l2': 2.863332285667219e-08, 'max_depth': 13, 'min_child_samples': 33, 'feature_fraction': 0.48298414781325805, 'bagging_fraction': 0.7073244088369707}. Best is trial 71 with value: 39.00152775011725.\n",
      "[I 2025-02-10 11:44:33,469] Trial 75 finished with value: 39.00574145683198 and parameters: {'learning_rate': 0.01710115456245095, 'n_estimators': 403, 'lambda_l1': 0.5828589743080346, 'lambda_l2': 9.933300792676367e-08, 'max_depth': 9, 'min_child_samples': 35, 'feature_fraction': 0.5076449289204743, 'bagging_fraction': 0.8595780075518445}. Best is trial 71 with value: 39.00152775011725.\n",
      "[I 2025-02-10 11:44:37,404] Trial 76 finished with value: 39.00359069944037 and parameters: {'learning_rate': 0.01567509578289563, 'n_estimators': 278, 'lambda_l1': 1.45484704073616, 'lambda_l2': 5.495085319602179e-07, 'max_depth': 14, 'min_child_samples': 25, 'feature_fraction': 0.45537484350655316, 'bagging_fraction': 0.77454894886266}. Best is trial 71 with value: 39.00152775011725.\n",
      "[I 2025-02-10 11:44:43,028] Trial 77 finished with value: 39.01277603991491 and parameters: {'learning_rate': 0.030035325778417415, 'n_estimators': 485, 'lambda_l1': 0.14151309509480073, 'lambda_l2': 2.8506264573159166e-06, 'max_depth': 10, 'min_child_samples': 31, 'feature_fraction': 0.5532865333679995, 'bagging_fraction': 0.7328472467100337}. Best is trial 71 with value: 39.00152775011725.\n",
      "[I 2025-02-10 11:44:49,604] Trial 78 finished with value: 39.00294489460527 and parameters: {'learning_rate': 0.014133113021065999, 'n_estimators': 441, 'lambda_l1': 5.877446258265266, 'lambda_l2': 0.0035361458065447534, 'max_depth': 11, 'min_child_samples': 38, 'feature_fraction': 0.4197179777272079, 'bagging_fraction': 0.826098118113759}. Best is trial 71 with value: 39.00152775011725.\n",
      "[I 2025-02-10 11:44:53,889] Trial 79 finished with value: 39.00430362646984 and parameters: {'learning_rate': 0.01074314216127232, 'n_estimators': 309, 'lambda_l1': 0.05071728363925978, 'lambda_l2': 2.082408193894459e-07, 'max_depth': 12, 'min_child_samples': 32, 'feature_fraction': 0.7193358116430284, 'bagging_fraction': 0.6831139268877435}. Best is trial 71 with value: 39.00152775011725.\n",
      "[I 2025-02-10 11:44:58,605] Trial 80 finished with value: 39.00473424642464 and parameters: {'learning_rate': 0.022270995097975428, 'n_estimators': 364, 'lambda_l1': 0.23414416130058685, 'lambda_l2': 2.6565052349090918e-08, 'max_depth': 15, 'min_child_samples': 43, 'feature_fraction': 0.4104761353302655, 'bagging_fraction': 0.7416779256136548}. Best is trial 71 with value: 39.00152775011725.\n",
      "[I 2025-02-10 11:45:04,783] Trial 81 finished with value: 39.0030201339652 and parameters: {'learning_rate': 0.01374884753258327, 'n_estimators': 436, 'lambda_l1': 1.3753647521573762, 'lambda_l2': 3.563751689353607e-05, 'max_depth': 14, 'min_child_samples': 30, 'feature_fraction': 0.4657752182648442, 'bagging_fraction': 0.8408995031017149}. Best is trial 71 with value: 39.00152775011725.\n",
      "[I 2025-02-10 11:45:11,124] Trial 82 finished with value: 39.00275262097823 and parameters: {'learning_rate': 0.012914453426022226, 'n_estimators': 408, 'lambda_l1': 0.38750138855852173, 'lambda_l2': 0.00010099950701400259, 'max_depth': 10, 'min_child_samples': 28, 'feature_fraction': 0.4706818285553366, 'bagging_fraction': 0.8311066279035169}. Best is trial 71 with value: 39.00152775011725.\n",
      "[I 2025-02-10 11:45:16,511] Trial 83 finished with value: 39.00188719259073 and parameters: {'learning_rate': 0.015978941392756747, 'n_estimators': 378, 'lambda_l1': 0.5864856503112448, 'lambda_l2': 7.911329261660162e-06, 'max_depth': 13, 'min_child_samples': 29, 'feature_fraction': 0.49736096643843286, 'bagging_fraction': 0.8987703276922572}. Best is trial 71 with value: 39.00152775011725.\n",
      "[I 2025-02-10 11:45:21,582] Trial 84 finished with value: 39.00227918897086 and parameters: {'learning_rate': 0.01608102399430943, 'n_estimators': 373, 'lambda_l1': 2.6842540353852535, 'lambda_l2': 5.721553187939302e-07, 'max_depth': 13, 'min_child_samples': 34, 'feature_fraction': 0.4931730580889131, 'bagging_fraction': 0.9402260902119519}. Best is trial 71 with value: 39.00152775011725.\n",
      "[I 2025-02-10 11:45:26,013] Trial 85 finished with value: 39.00337506084784 and parameters: {'learning_rate': 0.01606114655770277, 'n_estimators': 332, 'lambda_l1': 0.00010073604397916858, 'lambda_l2': 6.597048333411269e-07, 'max_depth': 12, 'min_child_samples': 26, 'feature_fraction': 0.49488873377833675, 'bagging_fraction': 0.9571793207580648}. Best is trial 71 with value: 39.00152775011725.\n",
      "[I 2025-02-10 11:45:31,183] Trial 86 finished with value: 39.004417583470584 and parameters: {'learning_rate': 0.019421656849725098, 'n_estimators': 381, 'lambda_l1': 0.9735249778425168, 'lambda_l2': 7.835169613146586e-06, 'max_depth': 13, 'min_child_samples': 30, 'feature_fraction': 0.4431782633278371, 'bagging_fraction': 0.9542148116874448}. Best is trial 71 with value: 39.00152775011725.\n",
      "[I 2025-02-10 11:45:35,721] Trial 87 finished with value: 39.002453557879726 and parameters: {'learning_rate': 0.01715671393531214, 'n_estimators': 346, 'lambda_l1': 2.2703076285834527, 'lambda_l2': 2.038769155967483e-06, 'max_depth': 11, 'min_child_samples': 37, 'feature_fraction': 0.5040075659344169, 'bagging_fraction': 0.8673223279451923}. Best is trial 71 with value: 39.00152775011725.\n",
      "[I 2025-02-10 11:45:39,678] Trial 88 finished with value: 39.0033736610542 and parameters: {'learning_rate': 0.011951115530477879, 'n_estimators': 272, 'lambda_l1': 5.702269233246589, 'lambda_l2': 1.8415267357607893e-08, 'max_depth': 13, 'min_child_samples': 33, 'feature_fraction': 0.5268213492808868, 'bagging_fraction': 0.9024483935043836}. Best is trial 71 with value: 39.00152775011725.\n",
      "[I 2025-02-10 11:45:42,154] Trial 89 finished with value: 39.007608320806156 and parameters: {'learning_rate': 0.01817050737880989, 'n_estimators': 153, 'lambda_l1': 2.6872753461999013, 'lambda_l2': 7.005815166795917e-08, 'max_depth': 12, 'min_child_samples': 27, 'feature_fraction': 0.4526222779406281, 'bagging_fraction': 0.9830844809740475}. Best is trial 71 with value: 39.00152775011725.\n",
      "[I 2025-02-10 11:45:49,585] Trial 90 finished with value: 39.00416545830201 and parameters: {'learning_rate': 0.013949138914953673, 'n_estimators': 501, 'lambda_l1': 0.13165047682173772, 'lambda_l2': 8.661823198608037e-07, 'max_depth': 15, 'min_child_samples': 35, 'feature_fraction': 0.5447333102155895, 'bagging_fraction': 0.9324508786430988}. Best is trial 71 with value: 39.00152775011725.\n",
      "[I 2025-02-10 11:45:55,835] Trial 91 finished with value: 39.00253329837177 and parameters: {'learning_rate': 0.015030387371753526, 'n_estimators': 400, 'lambda_l1': 0.5407852415588376, 'lambda_l2': 0.00016709816891576608, 'max_depth': 13, 'min_child_samples': 33, 'feature_fraction': 0.4869976333832071, 'bagging_fraction': 0.7162737124361926}. Best is trial 71 with value: 39.00152775011725.\n",
      "[I 2025-02-10 11:46:04,058] Trial 92 finished with value: 39.00214921925255 and parameters: {'learning_rate': 0.016015567290045565, 'n_estimators': 370, 'lambda_l1': 0.8233599713041939, 'lambda_l2': 4.4150797293229905e-06, 'max_depth': 14, 'min_child_samples': 36, 'feature_fraction': 0.4348375108919017, 'bagging_fraction': 0.9307887499619711}. Best is trial 71 with value: 39.00152775011725.\n",
      "[I 2025-02-10 11:46:11,477] Trial 93 finished with value: 39.003333053365125 and parameters: {'learning_rate': 0.01694218805891082, 'n_estimators': 369, 'lambda_l1': 0.9375755987272677, 'lambda_l2': 4.339331816054172e-06, 'max_depth': 14, 'min_child_samples': 32, 'feature_fraction': 0.43626164305370074, 'bagging_fraction': 0.891345497293792}. Best is trial 71 with value: 39.00152775011725.\n",
      "[I 2025-02-10 11:46:17,926] Trial 94 finished with value: 39.00368007437376 and parameters: {'learning_rate': 0.016330939653133838, 'n_estimators': 311, 'lambda_l1': 0.2738203651276856, 'lambda_l2': 3.1729334070667286e-07, 'max_depth': 11, 'min_child_samples': 36, 'feature_fraction': 0.4302906716368348, 'bagging_fraction': 0.9166707417522071}. Best is trial 71 with value: 39.00152775011725.\n",
      "[I 2025-02-10 11:46:23,705] Trial 95 finished with value: 39.003283433290264 and parameters: {'learning_rate': 0.020587046734474933, 'n_estimators': 238, 'lambda_l1': 1.5530598714425834, 'lambda_l2': 1.6395120427551378e-07, 'max_depth': 12, 'min_child_samples': 40, 'feature_fraction': 0.5032861976890342, 'bagging_fraction': 0.9941316424639721}. Best is trial 71 with value: 39.00152775011725.\n",
      "[I 2025-02-10 11:46:28,051] Trial 96 finished with value: 39.00410756912918 and parameters: {'learning_rate': 0.01433117370502558, 'n_estimators': 294, 'lambda_l1': 3.1691678395300333, 'lambda_l2': 8.527271384290464e-06, 'max_depth': 14, 'min_child_samples': 31, 'feature_fraction': 0.4126166797759802, 'bagging_fraction': 0.9287158851589372}. Best is trial 71 with value: 39.00152775011725.\n",
      "[I 2025-02-10 11:46:34,188] Trial 97 finished with value: 39.00371249473498 and parameters: {'learning_rate': 0.012517854403666304, 'n_estimators': 351, 'lambda_l1': 1.996152016834783e-06, 'lambda_l2': 5.751607447310381e-08, 'max_depth': 13, 'min_child_samples': 28, 'feature_fraction': 0.48218144764872706, 'bagging_fraction': 0.6610531088081679}. Best is trial 71 with value: 39.00152775011725.\n",
      "[I 2025-02-10 11:46:41,628] Trial 98 finished with value: 39.00421173004337 and parameters: {'learning_rate': 0.015666898210691754, 'n_estimators': 475, 'lambda_l1': 2.241183898596238e-05, 'lambda_l2': 2.6933363730352288e-06, 'max_depth': 15, 'min_child_samples': 34, 'feature_fraction': 0.4570427492428127, 'bagging_fraction': 0.875078027123376}. Best is trial 71 with value: 39.00152775011725.\n",
      "[I 2025-02-10 11:46:50,828] Trial 99 finished with value: 39.00313856124979 and parameters: {'learning_rate': 0.01122631637139836, 'n_estimators': 534, 'lambda_l1': 0.08466320082129987, 'lambda_l2': 6.013087516613149e-05, 'max_depth': 12, 'min_child_samples': 36, 'feature_fraction': 0.5228106183396357, 'bagging_fraction': 0.9440479033133481}. Best is trial 71 with value: 39.00152775011725.\n"
     ]
    }
   ],
   "source": [
    "def objective(trial: optuna.Trial):\n",
    "    '''\n",
    "    Обычная сигнатура функции оптимизации для optuna.\n",
    "    '''\n",
    "    param = {\n",
    "            \"metric\": 'RMSE',\n",
    "            \"verbosity\": -1,\n",
    "            \"boosting_type\": \"gbdt\",\n",
    "            \"random_state\": 42,\n",
    "            \"learning_rate\": trial.suggest_float(\"learning_rate\", 0.01, 0.1, log=True),\n",
    "            \"n_estimators\": trial.suggest_int(\"n_estimators\", 100, 1000),\n",
    "            'lambda_l1': trial.suggest_float('lambda_l1', 1e-8, 10.0),\n",
    "            'lambda_l2': trial.suggest_float('lambda_l2', 1e-8, 10.0),\n",
    "            \"max_depth\": trial.suggest_int(\"max_depth\", 5, 25),\n",
    "            \"colsample_bytree\": trial.suggest_float(\"colsample_bytree\", 0.3, 0.9),\n",
    "            \"subsample\": trial.suggest_float(\"subsample\", 0.8, 1.0, log=True),\n",
    "            \"min_child_samples\": trial.suggest_int(\"min_child_samples\", 5, 50),\n",
    "            'feature_fraction': trial.suggest_float('feature_fraction', 0.4, 1.0),\n",
    "            'bagging_fraction': trial.suggest_float('bagging_fraction', 0.4, 1.0)}\n",
    "    \n",
    "    lgbm_model = LGBMRegressor(**param)\n",
    "    lgbm_model.fit(X_train, y_train)\n",
    "    y_pred = lgbm_model.predict(X_test)\n",
    "    return root_mean_squared_error(y_test, y_pred)\n",
    "\n",
    "study = optuna.create_study(direction='minimize')\n",
    "study.optimize(objective, n_trials=100)"
   ]
  },
  {
   "cell_type": "code",
   "execution_count": 12,
   "id": "52e16f4f-473f-4736-a739-12919bdfcf15",
   "metadata": {},
   "outputs": [
    {
     "data": {
      "text/plain": [
       "{'learning_rate': 0.014096540552923083,\n",
       " 'n_estimators': 441,\n",
       " 'lambda_l1': 0.4929997006283267,\n",
       " 'lambda_l2': 3.536972671802839e-08,\n",
       " 'max_depth': 13,\n",
       " 'min_child_samples': 34,\n",
       " 'feature_fraction': 0.4645858551273576,\n",
       " 'bagging_fraction': 0.8389128874387093}"
      ]
     },
     "execution_count": 12,
     "metadata": {},
     "output_type": "execute_result"
    }
   ],
   "source": [
    "study.best_params"
   ]
  },
  {
   "cell_type": "code",
   "execution_count": 12,
   "id": "8b452ff1-29d8-4aa8-a1b9-6ad0d4c38ff7",
   "metadata": {},
   "outputs": [],
   "source": [
    "l_best_params_0 = {'learning_rate': 0.014096540552923083,\n",
    " 'n_estimators': 441,\n",
    " 'lambda_l1': 0.4929997006283267,\n",
    " 'lambda_l2': 3.536972671802839e-08,\n",
    " 'max_depth': 13,\n",
    " 'min_child_samples': 34,\n",
    " 'feature_fraction': 0.4645858551273576,\n",
    " 'bagging_fraction': 0.8389128874387093}\n",
    "\n"
   ]
  },
  {
   "cell_type": "code",
   "execution_count": 6,
   "id": "b57a5710-83b7-4c19-b811-40e21436a2af",
   "metadata": {},
   "outputs": [
    {
     "name": "stdout",
     "output_type": "stream",
     "text": [
      "[LightGBM] [Warning] Found whitespace in feature_names, replace with underlines\n",
      "[LightGBM] [Info] Auto-choosing row-wise multi-threading, the overhead of testing was 0.151215 seconds.\n",
      "You can set `force_row_wise=true` to remove the overhead.\n",
      "And if memory is not enough, you can set `force_col_wise=true`.\n",
      "[LightGBM] [Info] Total Bins 326\n",
      "[LightGBM] [Info] Number of data points in the train set: 3194008, number of used features: 32\n",
      "[LightGBM] [Info] Start training from score 81.378630\n"
     ]
    },
    {
     "data": {
      "text/plain": [
       "38.913524636745976"
      ]
     },
     "execution_count": 6,
     "metadata": {},
     "output_type": "execute_result"
    }
   ],
   "source": [
    "lgbmr_model = LGBMRegressor()\n",
    "lgbmr_model.fit(X_train, y_train)\n",
    "\n",
    "y_pred = lgbmr_model.predict(X_test)\n",
    "rmse = root_mean_squared_error(y_test, y_pred)\n",
    "pred = lgbmr_model.predict(test)\n",
    "rmse"
   ]
  },
  {
   "cell_type": "code",
   "execution_count": 5,
   "id": "70db9e99-670f-44cf-bbd1-70e01758e26d",
   "metadata": {},
   "outputs": [],
   "source": [
    "output = pd.DataFrame({'id': test_id, 'Price': pred})\n",
    "output.to_csv('data/lgbm_model.csv', index=False)"
   ]
  },
  {
   "cell_type": "markdown",
   "id": "e9eb8ab8-470b-4964-8912-eda57d31b237",
   "metadata": {
    "jp-MarkdownHeadingCollapsed": true
   },
   "source": [
    "# xgbr"
   ]
  },
  {
   "cell_type": "code",
   "execution_count": null,
   "id": "cb3db3e2-864f-414c-808b-d7e1ac41adef",
   "metadata": {},
   "outputs": [],
   "source": []
  },
  {
   "cell_type": "code",
   "execution_count": null,
   "id": "1484a6ff-c562-451e-982b-903392a52c41",
   "metadata": {},
   "outputs": [],
   "source": []
  },
  {
   "cell_type": "code",
   "execution_count": null,
   "id": "e05ad0de-7782-4f54-bb4f-6380decb1bb6",
   "metadata": {},
   "outputs": [],
   "source": [
    "def objective_xg(trial):\n",
    "\n",
    "    params = {\n",
    "        \"n_estimators\": 100,\n",
    "        \"eval_metric\": \"rmse\",\n",
    "        \"max_depth\": trial.suggest_int(\"max_depth\", 3, 7),\n",
    "        \"learning_rate\": trial.suggest_loguniform(\"learning_rate\", 0.01, 0.1),\n",
    "        \"min_child_weight\": trial.suggest_int(\"min_child_weight\", 0.01, 1),\n",
    "        \"subsample\": trial.suggest_loguniform(\"subsample\", 0.1, 1.0),\n",
    "        \"colsample_bylevel\": trial.suggest_float(\"colsample_bylevel\", 0.1, 1),\n",
    "        \"colsample_bytree\": trial.suggest_float(\"colsample_bytree\", 0.1, 1),\n",
    "        \"colsample_bynode\": trial.suggest_float(\"colsample_bynode\", 0.1, 1),\n",
    "        \"reg_alpha\": trial.suggest_float(\"reg_alpha\", 0.01, 1),\n",
    "        \"reg_lambda\": trial.suggest_float(\"reg_lambda\", 0.01, 1)\n",
    "    }\n",
    "\n",
    "    # Initialize and fit the model\n",
    "    model_xgb =  XGBRegressor(**params,\n",
    "                             enable_categorical = True)\n",
    "    \n",
    "    model_xgb.fit(X_train, y_train)\n",
    "\n",
    "    # Predict\n",
    "    y_pred = model_xgb.predict(X_test)\n",
    "    \n",
    "    return mean_squared_error(y_test, y_pred, squared = False)"
   ]
  },
  {
   "cell_type": "code",
   "execution_count": null,
   "id": "811a7210-b625-438b-b1ac-be7fea12a622",
   "metadata": {},
   "outputs": [],
   "source": [
    "study_xgb = optuna.create_study(direction=\"minimize\")\n",
    "optuna.logging.set_verbosity(optuna.logging.WARNING)\n",
    "study_xgb.optimize(objective_xg, n_trials=5, show_progress_bar=True)"
   ]
  },
  {
   "cell_type": "code",
   "execution_count": null,
   "id": "c0d2e2c0-0255-4c4d-a1e3-220d3e1ce464",
   "metadata": {},
   "outputs": [],
   "source": []
  },
  {
   "cell_type": "code",
   "execution_count": null,
   "id": "1546ed8f-9c55-4412-8912-abab234cbf7b",
   "metadata": {},
   "outputs": [],
   "source": []
  },
  {
   "cell_type": "code",
   "execution_count": null,
   "id": "d63f34a7-943a-4c14-931b-57f296be4a25",
   "metadata": {},
   "outputs": [],
   "source": []
  },
  {
   "cell_type": "code",
   "execution_count": 7,
   "id": "ac66ab2c-4fcc-4c1c-b18c-78af274680fd",
   "metadata": {},
   "outputs": [
    {
     "data": {
      "text/plain": [
       "38.92211769615038"
      ]
     },
     "execution_count": 7,
     "metadata": {},
     "output_type": "execute_result"
    }
   ],
   "source": [
    "xgbr_model = XGBRegressor()\n",
    "xgbr_model.fit(X_train, y_train)\n",
    "\n",
    "y_pred = xgbr_model.predict(X_test)\n",
    "rmse = root_mean_squared_error(y_test, y_pred)\n",
    "pred = xgbr_model.predict(test)\n",
    "rmse"
   ]
  },
  {
   "cell_type": "code",
   "execution_count": 19,
   "id": "195bb8af-4058-4dd8-b1a9-a5556c48d51f",
   "metadata": {},
   "outputs": [],
   "source": [
    "output = pd.DataFrame({'id': test_id, 'Price': pred})\n",
    "output.to_csv('data/xgbr_model.csv', index=False)"
   ]
  },
  {
   "cell_type": "code",
   "execution_count": null,
   "id": "fbffa389-3eb6-4980-9c5e-ea9fe28d9208",
   "metadata": {},
   "outputs": [],
   "source": []
  }
 ],
 "metadata": {
  "kernelspec": {
   "display_name": "Python 3 (ipykernel)",
   "language": "python",
   "name": "python3"
  },
  "language_info": {
   "codemirror_mode": {
    "name": "ipython",
    "version": 3
   },
   "file_extension": ".py",
   "mimetype": "text/x-python",
   "name": "python",
   "nbconvert_exporter": "python",
   "pygments_lexer": "ipython3",
   "version": "3.10.11"
  }
 },
 "nbformat": 4,
 "nbformat_minor": 5
}
